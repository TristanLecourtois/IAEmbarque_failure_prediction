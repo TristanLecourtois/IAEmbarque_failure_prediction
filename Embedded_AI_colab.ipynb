{
  "cells": [
    {
      "cell_type": "markdown",
      "metadata": {
        "id": "KKw34BeLGi-z"
      },
      "source": [
        "# Embedded AI\n",
        "\n",
        "**Author:** [kevin Hector]\n",
        "**Date created:** 20/09/2022<br>\n",
        "**Description:** CNN based on MNIST"
      ]
    },
    {
      "cell_type": "markdown",
      "metadata": {
        "id": "kBa_3BsCGi-8"
      },
      "source": [
        "## Setup"
      ]
    },
    {
      "cell_type": "code",
      "execution_count": 25,
      "metadata": {
        "id": "FpSVmfiCGi-9"
      },
      "outputs": [],
      "source": [
        "import numpy as np\n",
        "import tensorflow\n",
        "from tensorflow import keras\n",
        "from tensorflow.keras import layers, models"
      ]
    },
    {
      "cell_type": "markdown",
      "source": [
        "\n",
        "\n",
        "---\n",
        "# Define the model\n"
      ],
      "metadata": {
        "id": "_ozgCJhPKwmh"
      }
    },
    {
      "cell_type": "code",
      "source": [
        "def build_model(input_shape):\n",
        "\n",
        "        # Small CNN for MNIST recognition\n",
        "        model = models.Sequential()\n",
        "        \n",
        "        # Dense layer\n",
        "        model.add(layers.Conv2D(2, (3, 3), padding='same', activation='relu', input_shape=input_shape))\n",
        "        model.add(layers.MaxPooling2D((2, 2), padding='valid'))\n",
        "        model.add(layers.Flatten())\n",
        "        \n",
        "        # Dense layer\n",
        "        model.add(layers.Dense(16, activation='relu'))\n",
        "        \n",
        "        # Output layer\n",
        "        model.add(layers.Dense(10, activation='softmax'))\n",
        "                \n",
        "        return model"
      ],
      "metadata": {
        "id": "ZHpS9oiGKwVT"
      },
      "execution_count": 21,
      "outputs": []
    },
    {
      "cell_type": "markdown",
      "metadata": {
        "id": "uGDP2SXTGi_A"
      },
      "source": [
        "## Prepare the data"
      ]
    },
    {
      "cell_type": "code",
      "execution_count": 19,
      "metadata": {
        "id": "_JMxLojlGi_A",
        "outputId": "ef4ff482-718d-4e63-8e8b-47793f648c8a",
        "colab": {
          "base_uri": "https://localhost:8080/"
        }
      },
      "outputs": [
        {
          "output_type": "stream",
          "name": "stdout",
          "text": [
            "x_train shape: (50000, 28, 28, 1)\n",
            "50000 train samples\n",
            "10000 test samples\n",
            "10000 validation samples\n"
          ]
        }
      ],
      "source": [
        "# Model / data parameters\n",
        "num_classes = 10\n",
        "input_shape = (28, 28, 1)\n",
        "\n",
        "# Load the data and split it between train and test sets\n",
        "(x_train, y_train), (x_test, y_test) = keras.datasets.mnist.load_data()\n",
        "\n",
        "# Scale images to the [0, 1] range\n",
        "x_train = x_train.astype(\"float32\") / 255\n",
        "x_test = x_test.astype(\"float32\") / 255\n",
        "# Make sure images have shape (28, 28, 1)\n",
        "x_train = np.expand_dims(x_train, -1)\n",
        "x_test = np.expand_dims(x_test, -1)\n",
        "\n",
        "x_val = x_train[50000:]\n",
        "y_val = y_train[50000:]\n",
        "        \n",
        "x_train = x_train[:50000]\n",
        "y_train = y_train[:50000]\n",
        "\n",
        "\n",
        "\n",
        "print(\"x_train shape:\", x_train.shape)\n",
        "print(x_train.shape[0], \"train samples\")\n",
        "print(x_test.shape[0], \"test samples\")\n",
        "print(x_val.shape[0], \"validation samples\")\n",
        "\n",
        "\n",
        "# convert class vectors to binary class matrices\n",
        "y_train = keras.utils.to_categorical(y_train, num_classes)\n",
        "y_test = keras.utils.to_categorical(y_test, num_classes)\n",
        "y_val = keras.utils.to_categorical(y_val, num_classes)"
      ]
    },
    {
      "cell_type": "markdown",
      "metadata": {
        "id": "IT87A9vBGi_B"
      },
      "source": [
        "## Build the model"
      ]
    },
    {
      "cell_type": "code",
      "execution_count": 22,
      "metadata": {
        "id": "pb-fY35gGi_C",
        "outputId": "6d5ac9c9-8e53-4433-b0ab-a2800f9b027f",
        "colab": {
          "base_uri": "https://localhost:8080/"
        }
      },
      "outputs": [
        {
          "output_type": "stream",
          "name": "stdout",
          "text": [
            "Model: \"sequential_1\"\n",
            "_________________________________________________________________\n",
            " Layer (type)                Output Shape              Param #   \n",
            "=================================================================\n",
            " conv2d (Conv2D)             (None, 28, 28, 2)         20        \n",
            "                                                                 \n",
            " max_pooling2d (MaxPooling2D  (None, 14, 14, 2)        0         \n",
            " )                                                               \n",
            "                                                                 \n",
            " flatten (Flatten)           (None, 392)               0         \n",
            "                                                                 \n",
            " dense (Dense)               (None, 16)                6288      \n",
            "                                                                 \n",
            " dense_1 (Dense)             (None, 10)                170       \n",
            "                                                                 \n",
            "=================================================================\n",
            "Total params: 6,478\n",
            "Trainable params: 6,478\n",
            "Non-trainable params: 0\n",
            "_________________________________________________________________\n"
          ]
        }
      ],
      "source": [
        "model = build_model(input_shape)\n",
        "model.summary()"
      ]
    },
    {
      "cell_type": "markdown",
      "metadata": {
        "id": "rHtkobL2Gi_D"
      },
      "source": [
        "## Train the model"
      ]
    },
    {
      "cell_type": "code",
      "execution_count": 26,
      "metadata": {
        "id": "zdNAeFaxGi_E",
        "outputId": "e301fa6c-3abd-4bef-b179-7ce2d3ec8397",
        "colab": {
          "base_uri": "https://localhost:8080/"
        }
      },
      "outputs": [
        {
          "output_type": "stream",
          "name": "stdout",
          "text": [
            "Epoch 1/5\n"
          ]
        },
        {
          "output_type": "stream",
          "name": "stderr",
          "text": [
            "/usr/local/lib/python3.7/dist-packages/keras/optimizer_v2/adam.py:105: UserWarning: The `lr` argument is deprecated, use `learning_rate` instead.\n",
            "  super(Adam, self).__init__(name, **kwargs)\n"
          ]
        },
        {
          "output_type": "stream",
          "name": "stdout",
          "text": [
            "391/391 [==============================] - 13s 32ms/step - loss: 0.7831 - accuracy: 0.7764 - val_loss: 0.2658 - val_accuracy: 0.9264\n",
            "Epoch 2/5\n",
            "391/391 [==============================] - 13s 34ms/step - loss: 0.2570 - accuracy: 0.9239 - val_loss: 0.2003 - val_accuracy: 0.9440\n",
            "Epoch 3/5\n",
            "391/391 [==============================] - 13s 33ms/step - loss: 0.2053 - accuracy: 0.9381 - val_loss: 0.1718 - val_accuracy: 0.9538\n",
            "Epoch 4/5\n",
            "391/391 [==============================] - 12s 32ms/step - loss: 0.1785 - accuracy: 0.9467 - val_loss: 0.1602 - val_accuracy: 0.9559\n",
            "Epoch 5/5\n",
            "391/391 [==============================] - 12s 30ms/step - loss: 0.1610 - accuracy: 0.9515 - val_loss: 0.1459 - val_accuracy: 0.9612\n"
          ]
        }
      ],
      "source": [
        "batch_size = 128\n",
        "epochs = 5\n",
        "\n",
        "l_rate = 0.01\n",
        "optimizer = tensorflow.keras.optimizers.Adam(lr=l_rate)\n",
        "\n",
        "model.compile(loss=\"categorical_crossentropy\", optimizer=\"adam\", metrics=[\"accuracy\"])\n",
        "\n",
        "\n",
        "history = model.fit(x_train, y_train, batch_size=batch_size, epochs=epochs, validation_data=(x_val, y_val), shuffle=True)"
      ]
    },
    {
      "cell_type": "markdown",
      "metadata": {
        "id": "yJ-XeiSoGi_F"
      },
      "source": [
        "## Evaluate the trained model\n",
        "\n"
      ]
    },
    {
      "cell_type": "code",
      "execution_count": 29,
      "metadata": {
        "id": "VbLaiEHbGi_F",
        "outputId": "4a0ed31c-bdc2-4b69-b839-566cc04533a1",
        "colab": {
          "base_uri": "https://localhost:8080/"
        }
      },
      "outputs": [
        {
          "output_type": "stream",
          "name": "stdout",
          "text": [
            "Test loss: 0.1436065137386322\n",
            "Test accuracy: 0.9577000141143799\n"
          ]
        }
      ],
      "source": [
        "score = model.evaluate(x_test, y_test, verbose=0)\n",
        "print(\"Test loss:\", score[0])\n",
        "print(\"Test accuracy:\", score[1])"
      ]
    },
    {
      "cell_type": "markdown",
      "source": [
        "## Convert to h5 format\n"
      ],
      "metadata": {
        "id": "iAtjbN5WNne0"
      }
    },
    {
      "cell_type": "code",
      "source": [
        "import numpy as np\n",
        "\n",
        "np.save(\"MNIST_xtest_NN_C2_16_10.npy\", x_test)\n",
        "np.save(\"MNIST_ytest_NN_C2_16_10.npy\", y_test)\n",
        "model.save(\"MNIST_NN_C2_16_10.h5\")"
      ],
      "metadata": {
        "id": "kmLbhPaiNnRS"
      },
      "execution_count": 30,
      "outputs": []
    }
  ],
  "metadata": {
    "colab": {
      "collapsed_sections": [],
      "provenance": []
    },
    "kernelspec": {
      "display_name": "Python 3",
      "language": "python",
      "name": "python3"
    },
    "language_info": {
      "codemirror_mode": {
        "name": "ipython",
        "version": 3
      },
      "file_extension": ".py",
      "mimetype": "text/x-python",
      "name": "python",
      "nbconvert_exporter": "python",
      "pygments_lexer": "ipython3",
      "version": "3.7.0"
    }
  },
  "nbformat": 4,
  "nbformat_minor": 0
}